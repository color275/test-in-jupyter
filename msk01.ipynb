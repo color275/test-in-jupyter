{
 "cells": [
  {
   "cell_type": "code",
   "execution_count": null,
   "metadata": {},
   "outputs": [],
   "source": [
    "!pip install kafka-python==2.8.1"
   ]
  },
  {
   "cell_type": "code",
   "execution_count": null,
   "metadata": {},
   "outputs": [],
   "source": [
    "!pip install kafka-python --upgrade"
   ]
  },
  {
   "cell_type": "code",
   "execution_count": 217,
   "metadata": {},
   "outputs": [],
   "source": [
    "from kafka import KafkaAdminClient\n",
    "from kafka.admin import NewTopic\n",
    "from kafka import KafkaConsumer\n",
    "from kafka.admin import KafkaAdminClient, NewTopic\n",
    "from kafka.admin import KafkaAdminClient\n",
    "from kafka import TopicPartition\n",
    "\n",
    "# topic list 확인\n",
    "def list_kafka_topics(bootstrap_servers):\n",
    "    # KafkaAdminClient 인스턴스 생성\n",
    "    admin_client = KafkaAdminClient(security_protocol=\"SSL\", bootstrap_servers=bootstrap_servers)\n",
    "    # admin_client = KafkaAdminClient(bootstrap_servers=bootstrap_servers)\n",
    "\n",
    "    # Kafka 클러스터에서 모든 토픽 검색\n",
    "    topic_metadata = admin_client.list_topics()\n",
    "\n",
    "    topic_metadata = sorted(topic_metadata)\n",
    "\n",
    "    for topic in topic_metadata :\n",
    "        print(topic)\n",
    "    \n",
    "    admin_client.close()\n",
    "\n",
    "\n",
    "def get_consumer_offset(consumer):\n",
    "    offset_info = consumer.position()\n",
    "    print(\"Current consumer offsets:\")\n",
    "    for partition, offset in offset_info.items():\n",
    "        print(f\"Partition: {partition}, Offset: {offset}\")\n",
    "\n",
    "# 특정 topic 내 메시지 확인\n",
    "def list_kafka_topic_messages(topic_name, bootstrap_servers, auto_offset_reset):\n",
    "    consumer = KafkaConsumer(topic_name, \n",
    "                             security_protocol=\"SSL\",\n",
    "                            #  auto_offset_reset='earliest',\n",
    "                            #  auto_offset_reset='latest',\n",
    "                             auto_offset_reset=auto_offset_reset,\n",
    "                             bootstrap_servers=bootstrap_servers,\n",
    "                             api_version=(0, 10),\n",
    "                            #  consumer_timeout_ms=1000\n",
    "                             )\n",
    "    \n",
    "    # 현재 offset 번호 확인\n",
    "    # get_consumer_offset(consumer)\n",
    "    \n",
    "    # for msg in consumer:\n",
    "        # print(msg.value)\n",
    "    \n",
    "    for msg in consumer:\n",
    "        print(f\"Partition: {msg.partition}, Offset: {msg.offset}, Value: {msg.value}\")\n",
    "\n",
    "\n",
    "    # 소비 후 다시 offset 번호 확인\n",
    "    # get_consumer_offset(consumer)        \n",
    "    \n",
    "    if consumer is not None:\n",
    "        consumer.close()\n",
    "\n",
    "def consume_from_offset_and_partition(topic_name, bootstrap_servers, auto_offset_reset, partition, offset):\n",
    "    consumer = KafkaConsumer(security_protocol=\"SSL\",\n",
    "                             auto_offset_reset=auto_offset_reset,\n",
    "                             bootstrap_servers=bootstrap_servers,\n",
    "                             api_version=(0, 10))\n",
    "\n",
    "    # 특정 토픽의 모든 파티션을 할당\n",
    "    partitions = consumer.partitions_for_topic(topic_name)\n",
    "    topic_partitions = [TopicPartition(topic_name, p) for p in partitions]\n",
    "    print('partition info: ', topic_partitions)\n",
    "    consumer.assign(topic_partitions)\n",
    "\n",
    "    # 특정 파티션으로 consumer의 위치 설정\n",
    "    consumer.seek(TopicPartition(topic_name, partition), offset)\n",
    "\n",
    "    # 데이터 소비\n",
    "    for msg in consumer:\n",
    "        print(f\"Partition: {msg.partition}, Offset: {msg.offset}, Value: {msg.value}\")\n",
    "\n",
    "    if consumer is not None:\n",
    "        consumer.close()\n",
    "\n",
    "        \n",
    "\n",
    "# topic 생성\n",
    "def create_kafka_topic(topic_name, bootstrap_servers):\n",
    "    # KafkaAdminClient 인스턴스 생성\n",
    "    admin_client = KafkaAdminClient(security_protocol=\"SSL\",bootstrap_servers=bootstrap_servers)\n",
    "\n",
    "    # 토픽 생성\n",
    "    topic = NewTopic(name=topic_name, num_partitions=1, replication_factor=1)\n",
    "    admin_client.create_topics(new_topics=[topic], validate_only=False)\n",
    "\n",
    "    # KafkaAdminClient 인스턴스 종료\n",
    "    admin_client.close()\n",
    "\n",
    "\n",
    "# topic 삭제\n",
    "def delete_kafka_topic(topic_name, bootstrap_servers):\n",
    "    # KafkaAdminClient 인스턴스 생성\n",
    "    admin_client = KafkaAdminClient(security_protocol=\"SSL\",bootstrap_servers=bootstrap_servers)\n",
    "\n",
    "    # 토픽 삭제\n",
    "    admin_client.delete_topics(topics=[topic_name])\n",
    "\n",
    "    # KafkaAdminClient 인스턴스 종료\n",
    "    admin_client.close()    \n",
    "\n",
    "import subprocess\n",
    "\n",
    "# def get_kafka_cluster_info(bootstrap_servers):\n",
    "#     # 클러스터 상태 확인 명령 실행\n",
    "#     cluster_status_cmd = f'/home/ec2-user/kafka/bin/kafka-topics.sh --bootstrap-server {bootstrap_servers} --list'\n",
    "#     cluster_status_output = subprocess.check_output(cluster_status_cmd, shell=True)\n",
    "#     cluster_status_output = cluster_status_output.decode('utf-8')\n",
    "    \n",
    "#     # 토픽 리스트 출력\n",
    "#     print(\"Kafka Topic List:\")\n",
    "#     print(cluster_status_output)\n",
    "    \n",
    "#     # 컨슈머 그룹 상태 확인 명령 실행\n",
    "#     consumer_groups_cmd = f'/home/ec2-user/kafka/bin/kafka-consumer-groups.sh --bootstrap-server {bootstrap_servers} --list'\n",
    "#     consumer_groups_output = subprocess.check_output(consumer_groups_cmd, shell=True)\n",
    "#     consumer_groups_output = consumer_groups_output.decode('utf-8')\n",
    "    \n",
    "#     # 컨슈머 그룹 리스트 출력\n",
    "#     print(\"Kafka Consumer Groups:\")\n",
    "#     print(consumer_groups_output)\n",
    "\n",
    "\n",
    "\n",
    "\n"
   ]
  },
  {
   "cell_type": "code",
   "execution_count": 191,
   "metadata": {},
   "outputs": [],
   "source": [
    "# Kafka 브로커의 부트스트랩 서버 주소 설정\n",
    "bootstrap_servers = 'b-2.chiholeecluster.ercn4y.c2.kafka.ap-northeast-2.amazonaws.com:9094,b-1.chiholeecluster.ercn4y.c2.kafka.ap-northeast-2.amazonaws.com:9094,b-3.chiholeecluster.ercn4y.c2.kafka.ap-northeast-2.amazonaws.com:9094'"
   ]
  },
  {
   "cell_type": "code",
   "execution_count": null,
   "metadata": {},
   "outputs": [],
   "source": [
    "# 클러스터 정보 조회\n",
    "# get_kafka_cluster_info(bootstrap_servers)"
   ]
  },
  {
   "cell_type": "code",
   "execution_count": 183,
   "metadata": {},
   "outputs": [
    {
     "name": "stdout",
     "output_type": "stream",
     "text": [
      "__amazon_msk_canary\n",
      "__amazon_msk_connect_configs_mysql-connector2_23865b14-709b-4815-a592-0c85bb8efed2-2\n",
      "__amazon_msk_connect_configs_mysql-connector2_62e56632-245f-4d5d-8466-6e0996255bb4-2\n",
      "__amazon_msk_connect_configs_mysql-connector_30ebf326-6a60-4eae-b1e9-528026275b82-2\n",
      "__amazon_msk_connect_status_mysql-connector2_23865b14-709b-4815-a592-0c85bb8efed2-2\n",
      "__amazon_msk_connect_status_mysql-connector2_62e56632-245f-4d5d-8466-6e0996255bb4-2\n",
      "__amazon_msk_connect_status_mysql-connector_30ebf326-6a60-4eae-b1e9-528026275b82-2\n",
      "__consumer_offsets\n",
      "ecommerce\n",
      "ecommerce.ecommerce.auth_permission\n",
      "ecommerce.ecommerce.customer\n",
      "ecommerce.ecommerce.django_admin_log\n",
      "ecommerce.ecommerce.django_content_type\n",
      "ecommerce.ecommerce.django_migrations\n",
      "ecommerce.ecommerce.django_session\n",
      "ecommerce.ecommerce.msk_test\n",
      "ecommerce.ecommerce.orders\n",
      "ecommerce.ecommerce.product\n",
      "internal.dbhistory.ecommerce\n",
      "offsets_my_debezium_source_connector\n"
     ]
    }
   ],
   "source": [
    "# Kafka 토픽 조회\n",
    "list_kafka_topics(bootstrap_servers)"
   ]
  },
  {
   "cell_type": "code",
   "execution_count": 215,
   "metadata": {},
   "outputs": [],
   "source": [
    "topic_name = 'ecommerce.ecommerce.msk_test'\n",
    "# earliest\n",
    "# latest\n",
    "auto_offset_reset = 'earliest'"
   ]
  },
  {
   "cell_type": "code",
   "execution_count": null,
   "metadata": {},
   "outputs": [],
   "source": [
    "# 데이터 consume\n",
    "list_kafka_topic_messages(topic_name, bootstrap_servers, 'latest')"
   ]
  },
  {
   "cell_type": "code",
   "execution_count": null,
   "metadata": {},
   "outputs": [],
   "source": [
    "# 특정 partiton, 특정 offset에서 부터 데이터 consume\n",
    "partition = 0\n",
    "offset = 3\n",
    "consume_from_offset_and_partition(topic_name, bootstrap_servers, auto_offset_reset, partition, offset)"
   ]
  },
  {
   "cell_type": "code",
   "execution_count": 154,
   "metadata": {},
   "outputs": [],
   "source": [
    "# Kafka 토픽 생성\n",
    "create_kafka_topic(topic_name, bootstrap_servers)\n"
   ]
  },
  {
   "cell_type": "code",
   "execution_count": 179,
   "metadata": {},
   "outputs": [],
   "source": [
    "# Kafka 토픽 삭제\n",
    "delete_kafka_topic(topic_name, bootstrap_servers)"
   ]
  }
 ],
 "metadata": {
  "kernelspec": {
   "display_name": "Python 3 (ipykernel)",
   "language": "python",
   "name": "python3"
  },
  "language_info": {
   "codemirror_mode": {
    "name": "ipython",
    "version": 3
   },
   "file_extension": ".py",
   "mimetype": "text/x-python",
   "name": "python",
   "nbconvert_exporter": "python",
   "pygments_lexer": "ipython3",
   "version": "3.8.3"
  }
 },
 "nbformat": 4,
 "nbformat_minor": 4
}
